{
 "cells": [
  {
   "cell_type": "code",
   "execution_count": 1,
   "metadata": {},
   "outputs": [],
   "source": [
    "import anndata as ad\n",
    "import scanpy as sc\n",
    "import scanpy.external as sce"
   ]
  },
  {
   "cell_type": "markdown",
   "metadata": {},
   "source": [
    "***Pre-process the data with scanpy***"
   ]
  },
  {
   "cell_type": "code",
   "execution_count": 3,
   "metadata": {},
   "outputs": [],
   "source": [
    "adata = ad.read_h5ad(\"/well/sansom/users/odq545/work/cellhub/ifnb_example_full/integration.dir/anndata.dir/gex.h5ad\")"
   ]
  },
  {
   "cell_type": "code",
   "execution_count": 4,
   "metadata": {},
   "outputs": [],
   "source": [
    "\n",
    "sc.pp.filter_cells(adata, min_genes=200)\n",
    "sc.pp.filter_genes(adata, min_cells=3)\n",
    "# sc.pl.violin(adata, ['ngenes', 'total_UMI', 'pct_mitochondrial'],\n",
    "#             jitter=0.4, multi_panel=True)"
   ]
  },
  {
   "cell_type": "code",
   "execution_count": 5,
   "metadata": {},
   "outputs": [],
   "source": [
    "adata.layers[\"counts\"] = adata.X.copy() # preserve counts\n",
    "sc.pp.normalize_total(adata, target_sum=1e4)\n",
    "sc.pp.log1p(adata)\n",
    "adata.layers[\"log1p\"] = adata.X.copy()"
   ]
  },
  {
   "cell_type": "code",
   "execution_count": 6,
   "metadata": {},
   "outputs": [],
   "source": [
    "sc.pp.highly_variable_genes(\n",
    "    adata,\n",
    "    n_top_genes=3000,\n",
    "    subset=False,\n",
    "    layer=\"counts\",\n",
    "    flavor=\"seurat_v3\",\n",
    "    batch_key=\"condition\"\n",
    ")"
   ]
  },
  {
   "cell_type": "code",
   "execution_count": 7,
   "metadata": {},
   "outputs": [],
   "source": [
    "sc.pp.scale(adata, max_value=10)\n",
    "sc.tl.pca(adata)"
   ]
  },
  {
   "cell_type": "markdown",
   "metadata": {},
   "source": [
    "***Perform Integration with Harmony***"
   ]
  },
  {
   "cell_type": "code",
   "execution_count": 8,
   "metadata": {},
   "outputs": [
    {
     "name": "stderr",
     "output_type": "stream",
     "text": [
      "2022-07-15 01:41:00,642 - harmonypy - INFO - Iteration 1 of 10\n",
      "2022-07-15 01:41:33,193 - harmonypy - INFO - Iteration 2 of 10\n",
      "2022-07-15 01:42:34,918 - harmonypy - INFO - Iteration 3 of 10\n",
      "2022-07-15 01:43:19,596 - harmonypy - INFO - Iteration 4 of 10\n",
      "2022-07-15 01:43:52,391 - harmonypy - INFO - Iteration 5 of 10\n",
      "2022-07-15 01:44:00,845 - harmonypy - INFO - Iteration 6 of 10\n",
      "2022-07-15 01:44:14,139 - harmonypy - INFO - Converged after 6 iterations\n"
     ]
    }
   ],
   "source": [
    "sce.pp.harmony_integrate(adata, 'condition')"
   ]
  },
  {
   "cell_type": "code",
   "execution_count": 11,
   "metadata": {},
   "outputs": [
    {
     "data": {
      "text/plain": [
       "AnnData object with n_obs × n_vars = 29793 × 17865\n",
       "    obs: 'library_id', 'barcode_id', 'ngenes', 'total_UMI', 'pct_mitochondrial', 'pct_ribosomal', 'pct_immunoglobin', 'pct_hemoglobin', 'library_id:1', 'scrub_doublet_scores', 'scrub_predicted_doublets', 'singleR_HPCA', 'singleR_BlueEnc', 'singleR_ImmCell', 'singleR_NovHem', 'singleR_MonImm', 'sample_id', 'cell_type', 'condition', 'replicate', 'genotype', 'n_genes'\n",
       "    var: 'gene_ids', 'feature_types', 'genome', 'n_cells', 'highly_variable', 'highly_variable_rank', 'means', 'variances', 'variances_norm', 'highly_variable_nbatches', 'mean', 'std'\n",
       "    uns: 'log1p', 'hvg', 'pca'\n",
       "    obsm: 'X_pca', 'X_pca_harmony'\n",
       "    varm: 'PCs'\n",
       "    layers: 'counts', 'log1p'"
      ]
     },
     "execution_count": 11,
     "metadata": {},
     "output_type": "execute_result"
    }
   ],
   "source": [
    "adata"
   ]
  },
  {
   "cell_type": "code",
   "execution_count": 13,
   "metadata": {},
   "outputs": [
    {
     "data": {
      "text/plain": [
       "(29793, 50)"
      ]
     },
     "execution_count": 13,
     "metadata": {},
     "output_type": "execute_result"
    }
   ],
   "source": [
    "adata.obsm['X_pca_harmony'].shape"
   ]
  },
  {
   "cell_type": "code",
   "execution_count": 12,
   "metadata": {},
   "outputs": [],
   "source": [
    "adata.write_h5ad(\"integrated.h5ad\")"
   ]
  }
 ],
 "metadata": {
  "kernelspec": {
   "display_name": "Python 3.8.2 ('python3-venv-skylake-3.8.2')",
   "language": "python",
   "name": "python3"
  },
  "language_info": {
   "codemirror_mode": {
    "name": "ipython",
    "version": 3
   },
   "file_extension": ".py",
   "mimetype": "text/x-python",
   "name": "python",
   "nbconvert_exporter": "python",
   "pygments_lexer": "ipython3",
   "version": "3.8.2"
  },
  "orig_nbformat": 4,
  "vscode": {
   "interpreter": {
    "hash": "54ea4c894c536236d9af5faa481c868b78bc45c322681634ec71dc99cf58a876"
   }
  }
 },
 "nbformat": 4,
 "nbformat_minor": 2
}
